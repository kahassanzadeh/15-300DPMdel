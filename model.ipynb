{
 "cells": [
  {
   "cell_type": "code",
   "execution_count": 58,
   "metadata": {
    "pycharm": {
     "name": "#%%\n"
    }
   },
   "outputs": [],
   "source": [
    "import numpy as np\n",
    "import pandas as pd\n",
    "import matplotlib.pyplot as plt\n",
    "import seaborn as sns"
   ]
  },
  {
   "cell_type": "code",
   "execution_count": 59,
   "metadata": {},
   "outputs": [
    {
     "data": {
      "text/html": [
       "<div>\n",
       "<style scoped>\n",
       "    .dataframe tbody tr th:only-of-type {\n",
       "        vertical-align: middle;\n",
       "    }\n",
       "\n",
       "    .dataframe tbody tr th {\n",
       "        vertical-align: top;\n",
       "    }\n",
       "\n",
       "    .dataframe thead th {\n",
       "        text-align: right;\n",
       "    }\n",
       "</style>\n",
       "<table border=\"1\" class=\"dataframe\">\n",
       "  <thead>\n",
       "    <tr style=\"text-align: right;\">\n",
       "      <th></th>\n",
       "      <th>-log(C)</th>\n",
       "      <th>Amax/Abs QPR</th>\n",
       "      <th>lambda dpr</th>\n",
       "      <th>Integral</th>\n",
       "      <th>Max Synthesis</th>\n",
       "      <th>lambda dpr synthesis</th>\n",
       "      <th>Cat</th>\n",
       "    </tr>\n",
       "  </thead>\n",
       "  <tbody>\n",
       "    <tr>\n",
       "      <th>0</th>\n",
       "      <td>4.823909</td>\n",
       "      <td>1.506518</td>\n",
       "      <td>800</td>\n",
       "      <td>425.40</td>\n",
       "      <td>2.382</td>\n",
       "      <td>692</td>\n",
       "      <td>1</td>\n",
       "    </tr>\n",
       "    <tr>\n",
       "      <th>1</th>\n",
       "      <td>4.698970</td>\n",
       "      <td>1.569472</td>\n",
       "      <td>800</td>\n",
       "      <td>414.47</td>\n",
       "      <td>2.382</td>\n",
       "      <td>692</td>\n",
       "      <td>1</td>\n",
       "    </tr>\n",
       "    <tr>\n",
       "      <th>2</th>\n",
       "      <td>4.602060</td>\n",
       "      <td>1.634921</td>\n",
       "      <td>803</td>\n",
       "      <td>418.34</td>\n",
       "      <td>2.382</td>\n",
       "      <td>692</td>\n",
       "      <td>1</td>\n",
       "    </tr>\n",
       "    <tr>\n",
       "      <th>3</th>\n",
       "      <td>4.522879</td>\n",
       "      <td>1.671260</td>\n",
       "      <td>805</td>\n",
       "      <td>427.08</td>\n",
       "      <td>2.382</td>\n",
       "      <td>692</td>\n",
       "      <td>1</td>\n",
       "    </tr>\n",
       "    <tr>\n",
       "      <th>4</th>\n",
       "      <td>4.455932</td>\n",
       "      <td>1.694779</td>\n",
       "      <td>805</td>\n",
       "      <td>423.42</td>\n",
       "      <td>2.382</td>\n",
       "      <td>692</td>\n",
       "      <td>1</td>\n",
       "    </tr>\n",
       "    <tr>\n",
       "      <th>...</th>\n",
       "      <td>...</td>\n",
       "      <td>...</td>\n",
       "      <td>...</td>\n",
       "      <td>...</td>\n",
       "      <td>...</td>\n",
       "      <td>...</td>\n",
       "      <td>...</td>\n",
       "    </tr>\n",
       "    <tr>\n",
       "      <th>85</th>\n",
       "      <td>4.086186</td>\n",
       "      <td>2.048055</td>\n",
       "      <td>793</td>\n",
       "      <td>412.62</td>\n",
       "      <td>2.410</td>\n",
       "      <td>698</td>\n",
       "      <td>1</td>\n",
       "    </tr>\n",
       "    <tr>\n",
       "      <th>86</th>\n",
       "      <td>3.769551</td>\n",
       "      <td>2.034722</td>\n",
       "      <td>786</td>\n",
       "      <td>404.20</td>\n",
       "      <td>2.410</td>\n",
       "      <td>698</td>\n",
       "      <td>2</td>\n",
       "    </tr>\n",
       "    <tr>\n",
       "      <th>87</th>\n",
       "      <td>3.677781</td>\n",
       "      <td>2.023041</td>\n",
       "      <td>785</td>\n",
       "      <td>406.83</td>\n",
       "      <td>2.410</td>\n",
       "      <td>698</td>\n",
       "      <td>2</td>\n",
       "    </tr>\n",
       "    <tr>\n",
       "      <th>88</th>\n",
       "      <td>3.545155</td>\n",
       "      <td>2.008909</td>\n",
       "      <td>783</td>\n",
       "      <td>415.71</td>\n",
       "      <td>2.410</td>\n",
       "      <td>698</td>\n",
       "      <td>2</td>\n",
       "    </tr>\n",
       "    <tr>\n",
       "      <th>89</th>\n",
       "      <td>3.301030</td>\n",
       "      <td>1.962472</td>\n",
       "      <td>767</td>\n",
       "      <td>400.90</td>\n",
       "      <td>2.410</td>\n",
       "      <td>698</td>\n",
       "      <td>2</td>\n",
       "    </tr>\n",
       "  </tbody>\n",
       "</table>\n",
       "<p>90 rows × 7 columns</p>\n",
       "</div>"
      ],
      "text/plain": [
       "     -log(C)  Amax/Abs QPR  lambda dpr  Integral  Max Synthesis  \\\n",
       "0   4.823909      1.506518         800    425.40          2.382   \n",
       "1   4.698970      1.569472         800    414.47          2.382   \n",
       "2   4.602060      1.634921         803    418.34          2.382   \n",
       "3   4.522879      1.671260         805    427.08          2.382   \n",
       "4   4.455932      1.694779         805    423.42          2.382   \n",
       "..       ...           ...         ...       ...            ...   \n",
       "85  4.086186      2.048055         793    412.62          2.410   \n",
       "86  3.769551      2.034722         786    404.20          2.410   \n",
       "87  3.677781      2.023041         785    406.83          2.410   \n",
       "88  3.545155      2.008909         783    415.71          2.410   \n",
       "89  3.301030      1.962472         767    400.90          2.410   \n",
       "\n",
       "    lambda dpr synthesis  Cat  \n",
       "0                    692    1  \n",
       "1                    692    1  \n",
       "2                    692    1  \n",
       "3                    692    1  \n",
       "4                    692    1  \n",
       "..                   ...  ...  \n",
       "85                   698    1  \n",
       "86                   698    2  \n",
       "87                   698    2  \n",
       "88                   698    2  \n",
       "89                   698    2  \n",
       "\n",
       "[90 rows x 7 columns]"
      ]
     },
     "execution_count": 59,
     "metadata": {},
     "output_type": "execute_result"
    }
   ],
   "source": [
    "data = pd.read_csv('data.csv')\n",
    "data\n"
   ]
  },
  {
   "cell_type": "code",
   "execution_count": 19,
   "metadata": {},
   "outputs": [
    {
     "data": {
      "text/plain": [
       "<seaborn.axisgrid.PairGrid at 0x1805e0403d0>"
      ]
     },
     "execution_count": 19,
     "metadata": {},
     "output_type": "execute_result"
    },
    {
     "data": {
      "image/png": "[encoded data removed]",
      "text/plain": [
       "<Figure size 720x720 with 20 Axes>"
      ]
     },
     "metadata": {
      "needs_background": "light"
     },
     "output_type": "display_data"
    }
   ],
   "source": [
    "sns.pairplot(data[['-log(C)','Amax/Abs QPR','lambda dpr','Integral']])"
   ]
  },
  {
   "cell_type": "code",
   "execution_count": 62,
   "metadata": {},
   "outputs": [],
   "source": [
    "\n",
    "X = data.iloc[:83,1:6]\n",
    "y = data.iloc[:83,0]\n",
    "X_test = data.iloc[83:,1:6]\n",
    "y_test = data.iloc[83:,0]\n"
   ]
  },
  {
   "cell_type": "code",
   "execution_count": 63,
   "metadata": {},
   "outputs": [
    {
     "data": {
      "text/plain": [
       "array([[ 1.73404061],\n",
       "       [ 0.88353113],\n",
       "       [ 0.43888976],\n",
       "       [-0.30391148],\n",
       "       [-0.51919764],\n",
       "       [-0.8303269 ],\n",
       "       [-1.4030255 ]])"
      ]
     },
     "execution_count": 63,
     "metadata": {},
     "output_type": "execute_result"
    }
   ],
   "source": [
    "from sklearn.preprocessing import StandardScaler\n",
    "sc = StandardScaler()\n",
    "X = sc.fit_transform(X)\n",
    "y = sc.fit_transform(np.array(y).reshape(-1,1))\n",
    "X_test = sc.fit_transform(X_test)\n",
    "y_test = sc.fit_transform(np.array(y_test).reshape(-1,1))\n",
    "y_test"
   ]
  },
  {
   "cell_type": "code",
   "execution_count": 40,
   "metadata": {},
   "outputs": [],
   "source": [
    "from sklearn.model_selection import train_test_split\n",
    "X_train,X_test,y_train,y_test = train_test_split(X,y,test_size=0.2,random_state=43)"
   ]
  },
  {
   "cell_type": "code",
   "execution_count": 64,
   "metadata": {},
   "outputs": [],
   "source": [
    "from keras import models,layers\n",
    "model = models.Sequential()\n",
    "model.add(layers.Dense(16,input_shape=(5,),activation='relu',kernel_initializer='normal'))\n",
    "model.add(layers.Dropout(0.2))\n",
    "model.add(layers.Dense(64,activation='selu'))\n",
    "model.add(layers.Dropout(0.2))\n",
    "model.add(layers.Dense(16,activation='exponential'))\n",
    "model.add(layers.Dense(1))\n",
    "model.compile(loss='mean_squared_error',optimizer='rmsprop')"
   ]
  },
  {
   "cell_type": "code",
   "execution_count": 65,
   "metadata": {},
   "outputs": [
    {
     "name": "stdout",
     "output_type": "stream",
     "text": [
      "Epoch 1/64\n",
      "6/6 [==============================] - 1s 2ms/step - loss: 1.3288\n",
      "Epoch 2/64\n",
      "6/6 [==============================] - 0s 940us/step - loss: 0.9531\n",
      "Epoch 3/64\n",
      "6/6 [==============================] - 0s 701us/step - loss: 0.6914\n",
      "Epoch 4/64\n",
      "6/6 [==============================] - 0s 3ms/step - loss: 0.5007\n",
      "Epoch 5/64\n",
      "6/6 [==============================] - 0s 4ms/step - loss: 0.4053\n",
      "Epoch 6/64\n",
      "6/6 [==============================] - 0s 4ms/step - loss: 0.3688\n",
      "Epoch 7/64\n",
      "6/6 [==============================] - 0s 1ms/step - loss: 0.3477\n",
      "Epoch 8/64\n",
      "6/6 [==============================] - 0s 3ms/step - loss: 0.2146\n",
      "Epoch 9/64\n",
      "6/6 [==============================] - 0s 3ms/step - loss: 0.2328\n",
      "Epoch 10/64\n",
      "6/6 [==============================] - 0s 3ms/step - loss: 0.1114\n",
      "Epoch 11/64\n",
      "6/6 [==============================] - 0s 3ms/step - loss: 0.1902\n",
      "Epoch 12/64\n",
      "6/6 [==============================] - 0s 3ms/step - loss: 0.1598\n",
      "Epoch 13/64\n",
      "6/6 [==============================] - 0s 3ms/step - loss: 0.1682\n",
      "Epoch 14/64\n",
      "6/6 [==============================] - 0s 3ms/step - loss: 0.2172\n",
      "Epoch 15/64\n",
      "6/6 [==============================] - 0s 3ms/step - loss: 0.1756\n",
      "Epoch 16/64\n",
      "6/6 [==============================] - 0s 3ms/step - loss: 0.1370\n",
      "Epoch 17/64\n",
      "6/6 [==============================] - 0s 3ms/step - loss: 0.1852\n",
      "Epoch 18/64\n",
      "6/6 [==============================] - 0s 4ms/step - loss: 0.1435\n",
      "Epoch 19/64\n",
      "6/6 [==============================] - 0s 583us/step - loss: 0.1928\n",
      "Epoch 20/64\n",
      "6/6 [==============================] - 0s 482us/step - loss: 0.1325\n",
      "Epoch 21/64\n",
      "6/6 [==============================] - 0s 3ms/step - loss: 0.1395\n",
      "Epoch 22/64\n",
      "6/6 [==============================] - 0s 6ms/step - loss: 0.1242\n",
      "Epoch 23/64\n",
      "6/6 [==============================] - 0s 3ms/step - loss: 0.1235\n",
      "Epoch 24/64\n",
      "6/6 [==============================] - 0s 4ms/step - loss: 0.1307\n",
      "Epoch 25/64\n",
      "6/6 [==============================] - 0s 3ms/step - loss: 0.1166\n",
      "Epoch 26/64\n",
      "6/6 [==============================] - 0s 3ms/step - loss: 0.0992\n",
      "Epoch 27/64\n",
      "6/6 [==============================] - 0s 3ms/step - loss: 0.1263\n",
      "Epoch 28/64\n",
      "6/6 [==============================] - 0s 3ms/step - loss: 0.1059\n",
      "Epoch 29/64\n",
      "6/6 [==============================] - 0s 4ms/step - loss: 0.0992\n",
      "Epoch 30/64\n",
      "6/6 [==============================] - 0s 2ms/step - loss: 0.1188\n",
      "Epoch 31/64\n",
      "6/6 [==============================] - 0s 1ms/step - loss: 0.0983\n",
      "Epoch 32/64\n",
      "6/6 [==============================] - 0s 2ms/step - loss: 0.1051\n",
      "Epoch 33/64\n",
      "6/6 [==============================] - 0s 3ms/step - loss: 0.1136\n",
      "Epoch 34/64\n",
      "6/6 [==============================] - 0s 2ms/step - loss: 0.0808\n",
      "Epoch 35/64\n",
      "6/6 [==============================] - 0s 2ms/step - loss: 0.0757\n",
      "Epoch 36/64\n",
      "6/6 [==============================] - 0s 0s/step - loss: 0.1054\n",
      "Epoch 37/64\n",
      "6/6 [==============================] - 0s 2ms/step - loss: 0.0875\n",
      "Epoch 38/64\n",
      "6/6 [==============================] - 0s 2ms/step - loss: 0.1236\n",
      "Epoch 39/64\n",
      "6/6 [==============================] - 0s 2ms/step - loss: 0.0693\n",
      "Epoch 40/64\n",
      "6/6 [==============================] - 0s 3ms/step - loss: 0.1128\n",
      "Epoch 41/64\n",
      "6/6 [==============================] - 0s 3ms/step - loss: 0.0880\n",
      "Epoch 42/64\n",
      "6/6 [==============================] - 0s 2ms/step - loss: 0.0718\n",
      "Epoch 43/64\n",
      "6/6 [==============================] - 0s 2ms/step - loss: 0.1383\n",
      "Epoch 44/64\n",
      "6/6 [==============================] - 0s 2ms/step - loss: 0.1102\n",
      "Epoch 45/64\n",
      "6/6 [==============================] - 0s 2ms/step - loss: 0.0873\n",
      "Epoch 46/64\n",
      "6/6 [==============================] - 0s 2ms/step - loss: 0.0935\n",
      "Epoch 47/64\n",
      "6/6 [==============================] - 0s 2ms/step - loss: 0.0951\n",
      "Epoch 48/64\n",
      "6/6 [==============================] - 0s 0s/step - loss: 0.0773\n",
      "Epoch 49/64\n",
      "6/6 [==============================] - 0s 42us/step - loss: 0.0738\n",
      "Epoch 50/64\n",
      "6/6 [==============================] - 0s 301us/step - loss: 0.0510\n",
      "Epoch 51/64\n",
      "6/6 [==============================] - 0s 245us/step - loss: 0.0697\n",
      "Epoch 52/64\n",
      "6/6 [==============================] - 0s 52us/step - loss: 0.1012\n",
      "Epoch 53/64\n",
      "6/6 [==============================] - 0s 575us/step - loss: 0.0776\n",
      "Epoch 54/64\n",
      "6/6 [==============================] - 0s 1ms/step - loss: 0.1066\n",
      "Epoch 55/64\n",
      "6/6 [==============================] - 0s 1ms/step - loss: 0.1123\n",
      "Epoch 56/64\n",
      "6/6 [==============================] - 0s 3ms/step - loss: 0.0693\n",
      "Epoch 57/64\n",
      "6/6 [==============================] - 0s 3ms/step - loss: 0.0722\n",
      "Epoch 58/64\n",
      "6/6 [==============================] - 0s 0s/step - loss: 0.0615\n",
      "Epoch 59/64\n",
      "6/6 [==============================] - 0s 0s/step - loss: 0.0648\n",
      "Epoch 60/64\n",
      "6/6 [==============================] - 0s 3ms/step - loss: 0.0407\n",
      "Epoch 61/64\n",
      "6/6 [==============================] - 0s 3ms/step - loss: 0.0855\n",
      "Epoch 62/64\n",
      "6/6 [==============================] - 0s 3ms/step - loss: 0.0694\n",
      "Epoch 63/64\n",
      "6/6 [==============================] - 0s 3ms/step - loss: 0.0769\n",
      "Epoch 64/64\n",
      "6/6 [==============================] - 0s 3ms/step - loss: 0.0630\n"
     ]
    },
    {
     "data": {
      "text/plain": [
       "<keras.callbacks.History at 0x180683d2fd0>"
      ]
     },
     "execution_count": 65,
     "metadata": {},
     "output_type": "execute_result"
    }
   ],
   "source": [
    "model.fit(X,y,epochs=64,batch_size=16)"
   ]
  },
  {
   "cell_type": "code",
   "execution_count": 66,
   "metadata": {},
   "outputs": [
    {
     "name": "stdout",
     "output_type": "stream",
     "text": [
      "3/3 [==============================] - 0s 4ms/step\n",
      "0.9792625969407759\n",
      "1/1 [==============================] - 0s 7ms/step\n",
      "0.7947521585757221\n"
     ]
    }
   ],
   "source": [
    "from sklearn.metrics import r2_score\n",
    "pred_train = model.predict(X)\n",
    "print(r2_score(y,pred_train))\n",
    "\n",
    "pred = model.predict(X_test)\n",
    "print(r2_score(y_test,pred))"
   ]
  },
  {
   "cell_type": "code",
   "execution_count": 27,
   "metadata": {},
   "outputs": [],
   "source": [
    "def baseline_model():\n",
    "    model = models.Sequential()\n",
    "    model.add(layers.Dense(16,input_shape=(5,),activation='relu',kernel_initializer='normal'))\n",
    "    model.add(layers.Dropout(0.2))\n",
    "    model.add(layers.Dense(64,activation='selu'))\n",
    "    model.add(layers.Dropout(0.2))\n",
    "    model.add(layers.Dense(16,activation='selu'))\n",
    "    model.add(layers.Dense(1))\n",
    "    model.compile(loss='mean_squared_error',optimizer='rmsprop')\n",
    "    return model"
   ]
  },
  {
   "cell_type": "code",
   "execution_count": 28,
   "metadata": {},
   "outputs": [
    {
     "name": "stdout",
     "output_type": "stream",
     "text": [
      "k = 2\n",
      "[-0.0472865  -0.05427117]\n",
      "train_r2_score: [0.96816755 0.97259343]\n",
      "test_r2_score: [0.9492754  0.94744788]\n",
      "k = 3\n",
      "[-0.05050654 -0.05528172 -0.03513744]\n",
      "train_r2_score: [0.97132109 0.9776556  0.96803297]\n",
      "test_r2_score: [0.95175424 0.94730047 0.96084429]\n",
      "k = 4\n",
      "[-0.04254117 -0.1158093  -0.0862352  -0.05208405]\n",
      "train_r2_score: [0.95418329 0.92281858 0.96523016 0.95855114]\n",
      "test_r2_score: [0.96410856 0.83750623 0.92610544 0.93882226]\n",
      "k = 5\n",
      "[-0.03587513 -0.04659635 -0.14539935 -0.04427741 -0.06339522]\n",
      "train_r2_score: [0.96582865 0.97155023 0.96184509 0.97055711 0.96407586]\n",
      "test_r2_score: [0.97125982 0.93660356 0.85867147 0.95752372 0.92620683]\n"
     ]
    }
   ],
   "source": [
    "from keras import models,layers\n",
    "from scikeras.wrappers import KerasRegressor\n",
    "from sklearn.model_selection import cross_validate,cross_val_score\n",
    "from sklearn.model_selection import KFold\n",
    "\n",
    "estimator = KerasRegressor(model=baseline_model, epochs=64, batch_size=16, verbose=0)\n",
    "'''kfold = KFold(n_splits=3,shuffle=True)\n",
    "results = cross_validate(estimator, X, y, cv=kfold, scoring=('r2', 'neg_mean_squared_error'),return_train_score=True)\n",
    "print(results['test_neg_mean_squared_error'])\n",
    "print(\"train_r2_score:\",results['train_r2'])\n",
    "print(\"test_r2_score:\",results['test_r2'])'''\n",
    "for k in range(2,6):\n",
    "    kfold = KFold(n_splits=k,shuffle=True,random_state = 10)\n",
    "    results = cross_validate(estimator, X, y, cv=kfold, scoring=('r2', 'neg_mean_squared_error'),return_train_score=True)\n",
    "    print(\"k = \" + str(k))\n",
    "    print(results['test_neg_mean_squared_error'])\n",
    "    print(\"train_r2_score:\",results['train_r2'])\n",
    "    print(\"test_r2_score:\",results['test_r2'])"
   ]
  },
  {
   "cell_type": "code",
   "execution_count": 67,
   "metadata": {},
   "outputs": [
    {
     "name": "stdout",
     "output_type": "stream",
     "text": [
      "1/1 [==============================] - 0s 21ms/step\n"
     ]
    },
    {
     "data": {
      "text/plain": [
       "array([[4.63827216],\n",
       "       [4.27572413],\n",
       "       [4.08618615],\n",
       "       [3.76955108],\n",
       "       [3.6777807 ],\n",
       "       [3.54515514],\n",
       "       [3.30103   ]])"
      ]
     },
     "execution_count": 67,
     "metadata": {},
     "output_type": "execute_result"
    }
   ],
   "source": [
    "pred = sc.inverse_transform(model.predict(X_test))\n",
    "y_true =  sc.inverse_transform(y_test)\n",
    "y_true"
   ]
  },
  {
   "cell_type": "code",
   "execution_count": 68,
   "metadata": {},
   "outputs": [
    {
     "name": "stdout",
     "output_type": "stream",
     "text": [
      "RMSE = 0.19311928934201736\n"
     ]
    }
   ],
   "source": [
    "MSE = ((pred-y_true)**2).mean()\n",
    "RMSE = MSE ** 0.5\n",
    "print(\"RMSE = \" + str(RMSE))"
   ]
  },
  {
   "cell_type": "code",
   "execution_count": 69,
   "metadata": {},
   "outputs": [
    {
     "data": {
      "text/plain": [
       "87.32841558429729"
      ]
     },
     "execution_count": 69,
     "metadata": {},
     "output_type": "execute_result"
    }
   ],
   "source": [
    "max_y = y_true + RMSE\n",
    "min_y = y_true - RMSE\n",
    "C_max = (10 ** (-max_y)) * (10 ** 6)\n",
    "MSE_C = ((C_max - (10 ** (-y_true)) * (10 ** 6)) ** 2).mean()\n",
    "RMSE_C = MSE_C ** 0.5\n",
    "RMSE_C"
   ]
  },
  {
   "cell_type": "code",
   "execution_count": null,
   "metadata": {},
   "outputs": [],
   "source": []
  }
 ],
 "metadata": {
  "kernelspec": {
   "display_name": "Python 3 (ipykernel)",
   "language": "python",
   "name": "python3"
  },
  "language_info": {
   "codemirror_mode": {
    "name": "ipython",
    "version": 3
   },
   "file_extension": ".py",
   "mimetype": "text/x-python",
   "name": "python",
   "nbconvert_exporter": "python",
   "pygments_lexer": "ipython3",
   "version": "3.9.12"
  }
 },
 "nbformat": 4,
 "nbformat_minor": 1
}
